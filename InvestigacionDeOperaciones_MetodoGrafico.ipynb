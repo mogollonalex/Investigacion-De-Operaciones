{
  "nbformat": 4,
  "nbformat_minor": 0,
  "metadata": {
    "colab": {
      "provenance": [],
      "name": "InvestigacionDeOperaciones-MetodoGrafico.ipynb",
      "authorship_tag": "ABX9TyNFtuINtFOQeebTdJL5Pqkt",
      "include_colab_link": true
    },
    "kernelspec": {
      "name": "python3",
      "display_name": "Python 3"
    },
    "language_info": {
      "name": "python"
    }
  },
  "cells": [
    {
      "cell_type": "markdown",
      "metadata": {
        "id": "view-in-github",
        "colab_type": "text"
      },
      "source": [
        "<a href=\"https://colab.research.google.com/github/mogollonalex/Investigacion-De-Operaciones/blob/main/InvestigacionDeOperaciones_MetodoGrafico.ipynb\" target=\"_parent\"><img src=\"https://colab.research.google.com/assets/colab-badge.svg\" alt=\"Open In Colab\"/></a>"
      ]
    },
    {
      "cell_type": "code",
      "execution_count": null,
      "metadata": {
        "id": "3re71_yWk-cx"
      },
      "outputs": [],
      "source": []
    },
    {
      "cell_type": "markdown",
      "source": [
        "# Ejemplo: Problema programación lineal simple mediante el uso del metodo gráfico\n",
        "\n",
        "\n",
        "\\begin{align}\n",
        "\\ \\ \\ \\ \\text{Minimizar} &  \\ \\ \\ \\ \\ \\ \\ \\ \\  \\ \\ (Z)= 60x_1 + 40x_3 &&(1)\\\\\n",
        "\\text{s. t. } & 4x_1 + 4x_2 \\ge 10     &&(2)\\\\\n",
        "        & 2x_1 + \\ \\ x_2 \\ge 4         &&(3)\\\\\n",
        "        & 6x_1 + 2x_2 \\le 12 &&(4)\\\\\n",
        "        & x_1 \\geq 0  &&(5)\\\\\n",
        "        & x_2 \\geq 0  &&(6)\\\\\n",
        "\\end{align}\n",
        "\n"
      ],
      "metadata": {
        "id": "LP61zDR-lLFn"
      }
    },
    {
      "cell_type": "code",
      "source": [
        "!pip install pulp"
      ],
      "metadata": {
        "colab": {
          "base_uri": "https://localhost:8080/"
        },
        "id": "ebRllG1zySk6",
        "outputId": "cb528d21-ce32-4a5e-f7b4-ae8835b36660"
      },
      "execution_count": null,
      "outputs": [
        {
          "output_type": "stream",
          "name": "stdout",
          "text": [
            "Looking in indexes: https://pypi.org/simple, https://us-python.pkg.dev/colab-wheels/public/simple/\n",
            "Collecting pulp\n",
            "  Downloading PuLP-2.6.0-py3-none-any.whl (14.2 MB)\n",
            "\u001b[K     |████████████████████████████████| 14.2 MB 26.1 MB/s \n",
            "\u001b[?25hInstalling collected packages: pulp\n",
            "Successfully installed pulp-2.6.0\n"
          ]
        }
      ]
    },
    {
      "cell_type": "code",
      "source": [
        "from pulp import *\n",
        "import matplotlib.pyplot as plt\n",
        "import numpy as np"
      ],
      "metadata": {
        "id": "rrmOwclnx7Oo"
      },
      "execution_count": null,
      "outputs": []
    },
    {
      "cell_type": "code",
      "source": [
        "# Create an object of a model\n",
        "prob = LpProblem(\"Simple LP Problem\", LpMinimize)"
      ],
      "metadata": {
        "colab": {
          "base_uri": "https://localhost:8080/"
        },
        "id": "Mbj6XE2Rx9pD",
        "outputId": "0d6a0403-26ec-450e-d2be-d592d230e1ab"
      },
      "execution_count": null,
      "outputs": [
        {
          "output_type": "stream",
          "name": "stderr",
          "text": [
            "/usr/local/lib/python3.7/dist-packages/pulp/pulp.py:1352: UserWarning: Spaces are not permitted in the name. Converted to '_'\n",
            "  warnings.warn(\"Spaces are not permitted in the name. Converted to '_'\")\n"
          ]
        }
      ]
    },
    {
      "cell_type": "code",
      "source": [
        "# Define the decision variables\n",
        "x1 = LpVariable(\"x1\", 0)\n",
        "x2 = LpVariable(\"x2\", 0)"
      ],
      "metadata": {
        "id": "nfcI6wiMx_39"
      },
      "execution_count": null,
      "outputs": []
    },
    {
      "cell_type": "code",
      "source": [
        "# Define the objective function\n",
        "prob += 60*x1 + 40*x2"
      ],
      "metadata": {
        "id": "W5YMrk9dyBUD"
      },
      "execution_count": null,
      "outputs": []
    },
    {
      "cell_type": "code",
      "source": [
        "# Define the constraints\n",
        "prob += 4*x1 + 4*x2 >= 10.0, \"1st constraint\"\n",
        "prob += 2*x1 + x2 >= 4.0, \"2nd constraint\"\n",
        "prob += 6*x1 + 2*x2 <= 12.0, \"3rd constraint\""
      ],
      "metadata": {
        "id": "_biCaghHyF8g"
      },
      "execution_count": null,
      "outputs": []
    },
    {
      "cell_type": "code",
      "source": [
        "# Solve the linear programming problem\n",
        "prob.solve()"
      ],
      "metadata": {
        "colab": {
          "base_uri": "https://localhost:8080/"
        },
        "id": "Ee4FkvZFyIF5",
        "outputId": "5e931ce5-68be-439a-a842-e25877c7adfa"
      },
      "execution_count": null,
      "outputs": [
        {
          "output_type": "execute_result",
          "data": {
            "text/plain": [
              "1"
            ]
          },
          "metadata": {},
          "execution_count": 16
        }
      ]
    },
    {
      "cell_type": "code",
      "source": [
        "# Print the results\n",
        "print (\"Status: \", LpStatus[prob.status])"
      ],
      "metadata": {
        "colab": {
          "base_uri": "https://localhost:8080/"
        },
        "id": "UJ88Y4j_yJhF",
        "outputId": "71a5e7ae-b622-40a7-f4e1-39db1ed11bcc"
      },
      "execution_count": null,
      "outputs": [
        {
          "output_type": "stream",
          "name": "stdout",
          "text": [
            "Status:  Optimal\n"
          ]
        }
      ]
    },
    {
      "cell_type": "code",
      "source": [
        "for v in prob.variables():\n",
        "    print (v.name, \"=\", v.varValue)"
      ],
      "metadata": {
        "colab": {
          "base_uri": "https://localhost:8080/"
        },
        "id": "zq_UMgcHyLGR",
        "outputId": "c883a63a-04ae-48be-cd94-388db9fd2928"
      },
      "execution_count": null,
      "outputs": [
        {
          "output_type": "stream",
          "name": "stdout",
          "text": [
            "x1 = 1.5\n",
            "x2 = 1.0\n"
          ]
        }
      ]
    },
    {
      "cell_type": "code",
      "source": [
        "\n",
        "print (\"The optimal value of the objective function is = \", value(prob.objective))"
      ],
      "metadata": {
        "colab": {
          "base_uri": "https://localhost:8080/"
        },
        "id": "47P-mvgPyMv5",
        "outputId": "ff38d428-381a-44df-8773-43fbdd168588"
      },
      "execution_count": null,
      "outputs": [
        {
          "output_type": "stream",
          "name": "stdout",
          "text": [
            "The optimal value of the objective function is =  130.0\n"
          ]
        }
      ]
    },
    {
      "cell_type": "code",
      "source": [
        "# Plot the optimal solution\n",
        "x = np.arange(0, 4)\n",
        "plt.plot(x, 2.5 - x, label = '4x1 + 4x2 >= 10')\n",
        "plt.plot(x, 4 - 2 * x, label= ' 2x1 + x2 >= 4')\n",
        "plt.plot(x, 6 - 3 * x, label = '6x1 + 2x2 <= 12')\n",
        "\n",
        "plt.axis([0, 3, 0, 6])\n",
        "plt.grid(True)\n",
        "plt.legend()\n",
        "plt.show()"
      ],
      "metadata": {
        "colab": {
          "base_uri": "https://localhost:8080/",
          "height": 269
        },
        "id": "4oc27w8UyOZM",
        "outputId": "b8542fc8-dadb-4585-8dd9-c3c6ff38cc99"
      },
      "execution_count": null,
      "outputs": [
        {
          "output_type": "display_data",
          "data": {
            "text/plain": [
              "<Figure size 432x288 with 1 Axes>"
            ],
            "image/png": "[encoded data removed]"
          },
          "metadata": {
            "needs_background": "light"
          }
        }
      ]
    },
    {
      "cell_type": "code",
      "source": [],
      "metadata": {
        "id": "wb3a1fEqyQxv"
      },
      "execution_count": null,
      "outputs": []
    }
  ]
}